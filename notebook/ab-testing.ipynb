{
 "cells": [
  {
   "cell_type": "code",
   "execution_count": 22,
   "metadata": {},
   "outputs": [],
   "source": [
    "import pandas as pd\n",
    "import matplotlib.pyplot as plt\n",
    "import seaborn as sns\n",
    "from scipy.stats import f_oneway\n",
    "import sys\n",
    "import os\n",
    "sys.path.append(os.path.abspath('../data'))"
   ]
  },
  {
   "cell_type": "code",
   "execution_count": 2,
   "metadata": {},
   "outputs": [],
   "source": [
    "file_path = '../data/MachineLearningRating_v3.txt'"
   ]
  },
  {
   "cell_type": "code",
   "execution_count": 3,
   "metadata": {},
   "outputs": [
    {
     "name": "stderr",
     "output_type": "stream",
     "text": [
      "C:\\Users\\NurselamHussen-ZOAEt\\AppData\\Local\\Temp\\ipykernel_20920\\1248705775.py:1: DtypeWarning: Columns (32,37) have mixed types. Specify dtype option on import or set low_memory=False.\n",
      "  df = pd.read_csv(file_path, sep='|')\n"
     ]
    }
   ],
   "source": [
    "df = pd.read_csv(file_path, sep='|')"
   ]
  },
  {
   "cell_type": "markdown",
   "metadata": {},
   "source": [
    "## Checking data quality"
   ]
  },
  {
   "cell_type": "code",
   "execution_count": 52,
   "metadata": {},
   "outputs": [
    {
     "name": "stderr",
     "output_type": "stream",
     "text": [
      "C:\\Users\\NurselamHussen-ZOAEt\\AppData\\Local\\Temp\\ipykernel_20920\\1248705775.py:1: DtypeWarning: Columns (32,37) have mixed types. Specify dtype option on import or set low_memory=False.\n",
      "  df = pd.read_csv(file_path, sep='|')\n"
     ]
    }
   ],
   "source": [
    "df = pd.read_csv(file_path, sep='|')"
   ]
  },
  {
   "cell_type": "code",
   "execution_count": 46,
   "metadata": {},
   "outputs": [
    {
     "name": "stdout",
     "output_type": "stream",
     "text": [
      "Duplicates in the data: 0\n"
     ]
    }
   ],
   "source": [
    "# Check for duplicates\n",
    "print(f'Duplicates in the data: {df.duplicated().sum()}')"
   ]
  },
  {
   "cell_type": "markdown",
   "metadata": {},
   "source": [
    "## Select Metrics KPI "
   ]
  },
  {
   "cell_type": "code",
   "execution_count": 64,
   "metadata": {},
   "outputs": [
    {
     "data": {
      "text/html": [
       "<div>\n",
       "<style scoped>\n",
       "    .dataframe tbody tr th:only-of-type {\n",
       "        vertical-align: middle;\n",
       "    }\n",
       "\n",
       "    .dataframe tbody tr th {\n",
       "        vertical-align: top;\n",
       "    }\n",
       "\n",
       "    .dataframe thead th {\n",
       "        text-align: right;\n",
       "    }\n",
       "</style>\n",
       "<table border=\"1\" class=\"dataframe\">\n",
       "  <thead>\n",
       "    <tr style=\"text-align: right;\">\n",
       "      <th></th>\n",
       "      <th>LossRatio</th>\n",
       "      <th>ProfitMargin</th>\n",
       "      <th>ClaimFrequency</th>\n",
       "    </tr>\n",
       "  </thead>\n",
       "  <tbody>\n",
       "    <tr>\n",
       "      <th>0</th>\n",
       "      <td>0.0</td>\n",
       "      <td>NaN</td>\n",
       "      <td>0.0</td>\n",
       "    </tr>\n",
       "    <tr>\n",
       "      <th>1</th>\n",
       "      <td>0.0</td>\n",
       "      <td>NaN</td>\n",
       "      <td>0.0</td>\n",
       "    </tr>\n",
       "    <tr>\n",
       "      <th>2</th>\n",
       "      <td>NaN</td>\n",
       "      <td>NaN</td>\n",
       "      <td>0.0</td>\n",
       "    </tr>\n",
       "    <tr>\n",
       "      <th>3</th>\n",
       "      <td>0.0</td>\n",
       "      <td>NaN</td>\n",
       "      <td>0.0</td>\n",
       "    </tr>\n",
       "    <tr>\n",
       "      <th>4</th>\n",
       "      <td>NaN</td>\n",
       "      <td>NaN</td>\n",
       "      <td>0.0</td>\n",
       "    </tr>\n",
       "  </tbody>\n",
       "</table>\n",
       "</div>"
      ],
      "text/plain": [
       "   LossRatio  ProfitMargin  ClaimFrequency\n",
       "0        0.0           NaN             0.0\n",
       "1        0.0           NaN             0.0\n",
       "2        NaN           NaN             0.0\n",
       "3        0.0           NaN             0.0\n",
       "4        NaN           NaN             0.0"
      ]
     },
     "execution_count": 64,
     "metadata": {},
     "output_type": "execute_result"
    }
   ],
   "source": [
    "# Calculate Loss Ratio\n",
    "df['LossRatio'] = df['TotalClaims'] / df['TotalPremium']\n",
    "\n",
    "# Calculate Profit Margin\n",
    "df['ProfitMargin'] = (df['TotalPremium'] - df['TotalClaims']) / data['TotalPremium']\n",
    "\n",
    "# Assuming that the number of claims is derived from the `TotalClaims` and `PolicyID` columns (one claim per policy)\n",
    "# or if there's a specific column for claims, replace accordingly.\n",
    "df['ClaimFrequency'] = df['TotalClaims'] / df['PolicyID'].nunique()\n",
    "\n",
    "# Display the first few rows to check the calculated KPIs\n",
    "df[['LossRatio', 'ProfitMargin', 'ClaimFrequency']].head()\n"
   ]
  },
  {
   "cell_type": "code",
   "execution_count": 69,
   "metadata": {},
   "outputs": [
    {
     "data": {
      "text/html": [
       "<div>\n",
       "<style scoped>\n",
       "    .dataframe tbody tr th:only-of-type {\n",
       "        vertical-align: middle;\n",
       "    }\n",
       "\n",
       "    .dataframe tbody tr th {\n",
       "        vertical-align: top;\n",
       "    }\n",
       "\n",
       "    .dataframe thead th {\n",
       "        text-align: right;\n",
       "    }\n",
       "</style>\n",
       "<table border=\"1\" class=\"dataframe\">\n",
       "  <thead>\n",
       "    <tr style=\"text-align: right;\">\n",
       "      <th></th>\n",
       "      <th>LossRatio</th>\n",
       "      <th>ProfitMargin</th>\n",
       "      <th>ClaimFrequency</th>\n",
       "    </tr>\n",
       "    <tr>\n",
       "      <th>Province</th>\n",
       "      <th></th>\n",
       "      <th></th>\n",
       "      <th></th>\n",
       "    </tr>\n",
       "  </thead>\n",
       "  <tbody>\n",
       "    <tr>\n",
       "      <th>Eastern Cape</th>\n",
       "      <td>inf</td>\n",
       "      <td>-inf</td>\n",
       "      <td>0.006388</td>\n",
       "    </tr>\n",
       "    <tr>\n",
       "      <th>Free State</th>\n",
       "      <td>inf</td>\n",
       "      <td>-inf</td>\n",
       "      <td>0.006260</td>\n",
       "    </tr>\n",
       "    <tr>\n",
       "      <th>Gauteng</th>\n",
       "      <td>NaN</td>\n",
       "      <td>NaN</td>\n",
       "      <td>0.010661</td>\n",
       "    </tr>\n",
       "    <tr>\n",
       "      <th>KwaZulu-Natal</th>\n",
       "      <td>inf</td>\n",
       "      <td>-inf</td>\n",
       "      <td>0.012033</td>\n",
       "    </tr>\n",
       "    <tr>\n",
       "      <th>Limpopo</th>\n",
       "      <td>inf</td>\n",
       "      <td>-inf</td>\n",
       "      <td>0.005847</td>\n",
       "    </tr>\n",
       "    <tr>\n",
       "      <th>Mpumalanga</th>\n",
       "      <td>NaN</td>\n",
       "      <td>NaN</td>\n",
       "      <td>0.005541</td>\n",
       "    </tr>\n",
       "    <tr>\n",
       "      <th>North West</th>\n",
       "      <td>inf</td>\n",
       "      <td>-inf</td>\n",
       "      <td>0.005902</td>\n",
       "    </tr>\n",
       "    <tr>\n",
       "      <th>Northern Cape</th>\n",
       "      <td>0.203831</td>\n",
       "      <td>0.796169</td>\n",
       "      <td>0.002004</td>\n",
       "    </tr>\n",
       "    <tr>\n",
       "      <th>Western Cape</th>\n",
       "      <td>inf</td>\n",
       "      <td>-inf</td>\n",
       "      <td>0.008690</td>\n",
       "    </tr>\n",
       "  </tbody>\n",
       "</table>\n",
       "</div>"
      ],
      "text/plain": [
       "               LossRatio  ProfitMargin  ClaimFrequency\n",
       "Province                                              \n",
       "Eastern Cape         inf          -inf        0.006388\n",
       "Free State           inf          -inf        0.006260\n",
       "Gauteng              NaN           NaN        0.010661\n",
       "KwaZulu-Natal        inf          -inf        0.012033\n",
       "Limpopo              inf          -inf        0.005847\n",
       "Mpumalanga           NaN           NaN        0.005541\n",
       "North West           inf          -inf        0.005902\n",
       "Northern Cape   0.203831      0.796169        0.002004\n",
       "Western Cape         inf          -inf        0.008690"
      ]
     },
     "execution_count": 69,
     "metadata": {},
     "output_type": "execute_result"
    }
   ],
   "source": [
    "# Group the data by Province and calculate the mean of KPIs\n",
    "province_group = df.groupby('Province')[['LossRatio', 'ProfitMargin', 'ClaimFrequency']].mean()\n",
    "\n",
    "# Display summary statistics by Province\n",
    "province_group\n"
   ]
  },
  {
   "cell_type": "code",
   "execution_count": 70,
   "metadata": {},
   "outputs": [
    {
     "data": {
      "text/html": [
       "<div>\n",
       "<style scoped>\n",
       "    .dataframe tbody tr th:only-of-type {\n",
       "        vertical-align: middle;\n",
       "    }\n",
       "\n",
       "    .dataframe tbody tr th {\n",
       "        vertical-align: top;\n",
       "    }\n",
       "\n",
       "    .dataframe thead th {\n",
       "        text-align: right;\n",
       "    }\n",
       "</style>\n",
       "<table border=\"1\" class=\"dataframe\">\n",
       "  <thead>\n",
       "    <tr style=\"text-align: right;\">\n",
       "      <th></th>\n",
       "      <th>LossRatio</th>\n",
       "      <th>ProfitMargin</th>\n",
       "      <th>ClaimFrequency</th>\n",
       "    </tr>\n",
       "    <tr>\n",
       "      <th>PostalCode</th>\n",
       "      <th></th>\n",
       "      <th></th>\n",
       "      <th></th>\n",
       "    </tr>\n",
       "  </thead>\n",
       "  <tbody>\n",
       "    <tr>\n",
       "      <th>1</th>\n",
       "      <td>inf</td>\n",
       "      <td>-inf</td>\n",
       "      <td>0.008227</td>\n",
       "    </tr>\n",
       "    <tr>\n",
       "      <th>2</th>\n",
       "      <td>0.852758</td>\n",
       "      <td>0.147242</td>\n",
       "      <td>0.005941</td>\n",
       "    </tr>\n",
       "    <tr>\n",
       "      <th>4</th>\n",
       "      <td>0.000000</td>\n",
       "      <td>1.000000</td>\n",
       "      <td>0.000000</td>\n",
       "    </tr>\n",
       "    <tr>\n",
       "      <th>5</th>\n",
       "      <td>0.698901</td>\n",
       "      <td>0.301099</td>\n",
       "      <td>0.029626</td>\n",
       "    </tr>\n",
       "    <tr>\n",
       "      <th>6</th>\n",
       "      <td>0.122927</td>\n",
       "      <td>0.877073</td>\n",
       "      <td>0.002801</td>\n",
       "    </tr>\n",
       "    <tr>\n",
       "      <th>...</th>\n",
       "      <td>...</td>\n",
       "      <td>...</td>\n",
       "      <td>...</td>\n",
       "    </tr>\n",
       "    <tr>\n",
       "      <th>9781</th>\n",
       "      <td>inf</td>\n",
       "      <td>-inf</td>\n",
       "      <td>0.019929</td>\n",
       "    </tr>\n",
       "    <tr>\n",
       "      <th>9830</th>\n",
       "      <td>0.000000</td>\n",
       "      <td>1.000000</td>\n",
       "      <td>0.000000</td>\n",
       "    </tr>\n",
       "    <tr>\n",
       "      <th>9868</th>\n",
       "      <td>0.000000</td>\n",
       "      <td>1.000000</td>\n",
       "      <td>0.000000</td>\n",
       "    </tr>\n",
       "    <tr>\n",
       "      <th>9869</th>\n",
       "      <td>0.120710</td>\n",
       "      <td>0.879290</td>\n",
       "      <td>0.000226</td>\n",
       "    </tr>\n",
       "    <tr>\n",
       "      <th>9870</th>\n",
       "      <td>0.000000</td>\n",
       "      <td>1.000000</td>\n",
       "      <td>0.000000</td>\n",
       "    </tr>\n",
       "  </tbody>\n",
       "</table>\n",
       "<p>888 rows × 3 columns</p>\n",
       "</div>"
      ],
      "text/plain": [
       "            LossRatio  ProfitMargin  ClaimFrequency\n",
       "PostalCode                                         \n",
       "1                 inf          -inf        0.008227\n",
       "2            0.852758      0.147242        0.005941\n",
       "4            0.000000      1.000000        0.000000\n",
       "5            0.698901      0.301099        0.029626\n",
       "6            0.122927      0.877073        0.002801\n",
       "...               ...           ...             ...\n",
       "9781              inf          -inf        0.019929\n",
       "9830         0.000000      1.000000        0.000000\n",
       "9868         0.000000      1.000000        0.000000\n",
       "9869         0.120710      0.879290        0.000226\n",
       "9870         0.000000      1.000000        0.000000\n",
       "\n",
       "[888 rows x 3 columns]"
      ]
     },
     "execution_count": 70,
     "metadata": {},
     "output_type": "execute_result"
    }
   ],
   "source": [
    "# Group the data by Zip Code and calculate the mean of KPIs\n",
    "zip_code_group = df.groupby('PostalCode')[['LossRatio', 'ProfitMargin', 'ClaimFrequency']].mean()\n",
    "\n",
    "# Display summary statistics by Zip Code\n",
    "zip_code_group\n"
   ]
  },
  {
   "cell_type": "code",
   "execution_count": 71,
   "metadata": {},
   "outputs": [
    {
     "data": {
      "text/html": [
       "<div>\n",
       "<style scoped>\n",
       "    .dataframe tbody tr th:only-of-type {\n",
       "        vertical-align: middle;\n",
       "    }\n",
       "\n",
       "    .dataframe tbody tr th {\n",
       "        vertical-align: top;\n",
       "    }\n",
       "\n",
       "    .dataframe thead th {\n",
       "        text-align: right;\n",
       "    }\n",
       "</style>\n",
       "<table border=\"1\" class=\"dataframe\">\n",
       "  <thead>\n",
       "    <tr style=\"text-align: right;\">\n",
       "      <th></th>\n",
       "      <th>LossRatio</th>\n",
       "      <th>ProfitMargin</th>\n",
       "      <th>ClaimFrequency</th>\n",
       "    </tr>\n",
       "    <tr>\n",
       "      <th>Gender</th>\n",
       "      <th></th>\n",
       "      <th></th>\n",
       "      <th></th>\n",
       "    </tr>\n",
       "  </thead>\n",
       "  <tbody>\n",
       "    <tr>\n",
       "      <th>Female</th>\n",
       "      <td>inf</td>\n",
       "      <td>-inf</td>\n",
       "      <td>0.005292</td>\n",
       "    </tr>\n",
       "    <tr>\n",
       "      <th>Male</th>\n",
       "      <td>inf</td>\n",
       "      <td>-inf</td>\n",
       "      <td>0.004660</td>\n",
       "    </tr>\n",
       "    <tr>\n",
       "      <th>Not specified</th>\n",
       "      <td>NaN</td>\n",
       "      <td>NaN</td>\n",
       "      <td>0.009521</td>\n",
       "    </tr>\n",
       "  </tbody>\n",
       "</table>\n",
       "</div>"
      ],
      "text/plain": [
       "               LossRatio  ProfitMargin  ClaimFrequency\n",
       "Gender                                                \n",
       "Female               inf          -inf        0.005292\n",
       "Male                 inf          -inf        0.004660\n",
       "Not specified        NaN           NaN        0.009521"
      ]
     },
     "execution_count": 71,
     "metadata": {},
     "output_type": "execute_result"
    }
   ],
   "source": [
    "# Group the data by Gender and calculate the mean of KPIs\n",
    "gender_group = df.groupby('Gender')[['LossRatio', 'ProfitMargin', 'ClaimFrequency']].mean()\n",
    "\n",
    "# Display summary statistics by Gender\n",
    "gender_group\n"
   ]
  },
  {
   "cell_type": "code",
   "execution_count": 72,
   "metadata": {},
   "outputs": [
    {
     "name": "stdout",
     "output_type": "stream",
     "text": [
      "ANOVA Results for Loss Ratio (Provinces): F-statistic = nan, p-value = nan\n",
      "ANOVA Results for Profit Margin (Provinces): F-statistic = nan, p-value = nan\n",
      "ANOVA Results for Claim Frequency (Provinces): F-statistic = 5.849413762407612, p-value = 1.6782057588675903e-07\n"
     ]
    }
   ],
   "source": [
    "from scipy.stats import f_oneway\n",
    "\n",
    "# Perform ANOVA for Loss Ratio across Provinces\n",
    "anova_loss_ratio_province = f_oneway(*[group['LossRatio'] for name, group in df.groupby('Province')])\n",
    "\n",
    "# Perform ANOVA for Profit Margin across Provinces\n",
    "anova_profit_margin_province = f_oneway(*[group['ProfitMargin'] for name, group in df.groupby('Province')])\n",
    "\n",
    "# Perform ANOVA for Claim Frequency across Provinces\n",
    "anova_claim_freq_province = f_oneway(*[group['ClaimFrequency'] for name, group in df.groupby('Province')])\n",
    "\n",
    "# Print ANOVA results\n",
    "print(f\"ANOVA Results for Loss Ratio (Provinces): F-statistic = {anova_loss_ratio_province.statistic}, p-value = {anova_loss_ratio_province.pvalue}\")\n",
    "print(f\"ANOVA Results for Profit Margin (Provinces): F-statistic = {anova_profit_margin_province.statistic}, p-value = {anova_profit_margin_province.pvalue}\")\n",
    "print(f\"ANOVA Results for Claim Frequency (Provinces): F-statistic = {anova_claim_freq_province.statistic}, p-value = {anova_claim_freq_province.pvalue}\")\n"
   ]
  },
  {
   "cell_type": "code",
   "execution_count": 73,
   "metadata": {},
   "outputs": [
    {
     "name": "stdout",
     "output_type": "stream",
     "text": [
      "T-test Results for Loss Ratio (Gender): t-statistic = nan, p-value = nan\n",
      "T-test Results for Profit Margin (Gender): t-statistic = nan, p-value = nan\n",
      "T-test Results for Claim Frequency (Gender): t-statistic = -0.24803623812388736, p-value = 0.8041073961270342\n"
     ]
    }
   ],
   "source": [
    "from scipy.stats import ttest_ind\n",
    "\n",
    "# Perform t-test for Loss Ratio between Men and Women\n",
    "t_test_loss_ratio_gender = ttest_ind(df[df['Gender'] == 'Male']['LossRatio'],\n",
    "                                     df[df['Gender'] == 'Female']['LossRatio'])\n",
    "\n",
    "# Perform t-test for Profit Margin between Men and Women\n",
    "t_test_profit_margin_gender = ttest_ind(df[df['Gender'] == 'Male']['ProfitMargin'],\n",
    "                                        df[df['Gender'] == 'Female']['ProfitMargin'])\n",
    "\n",
    "# Perform t-test for Claim Frequency between Men and Women\n",
    "t_test_claim_freq_gender = ttest_ind(df[df['Gender'] == 'Male']['ClaimFrequency'],\n",
    "                                     df[df['Gender'] == 'Female']['ClaimFrequency'])\n",
    "\n",
    "# Print t-test results\n",
    "print(f\"T-test Results for Loss Ratio (Gender): t-statistic = {t_test_loss_ratio_gender.statistic}, p-value = {t_test_loss_ratio_gender.pvalue}\")\n",
    "print(f\"T-test Results for Profit Margin (Gender): t-statistic = {t_test_profit_margin_gender.statistic}, p-value = {t_test_profit_margin_gender.pvalue}\")\n",
    "print(f\"T-test Results for Claim Frequency (Gender): t-statistic = {t_test_claim_freq_gender.statistic}, p-value = {t_test_claim_freq_gender.pvalue}\")\n"
   ]
  },
  {
   "cell_type": "code",
   "execution_count": 74,
   "metadata": {},
   "outputs": [
    {
     "name": "stdout",
     "output_type": "stream",
     "text": [
      "ANOVA for Loss Ratio across Provinces: p-value = nan\n",
      "Fail to reject the null hypothesis: No significant difference in risk across provinces.\n"
     ]
    }
   ],
   "source": [
    "from scipy import stats\n",
    "\n",
    "# Perform ANOVA for Loss Ratio by Province\n",
    "anova_province_loss_ratio = stats.f_oneway(*[group['LossRatio'].values for name, group in df.groupby('Province')])\n",
    "\n",
    "# Print p-value for ANOVA test\n",
    "print(f\"ANOVA for Loss Ratio across Provinces: p-value = {anova_province_loss_ratio.pvalue}\")\n",
    "\n",
    "# Check if p-value is significant\n",
    "if anova_province_loss_ratio.pvalue < 0.05:\n",
    "    print(\"Reject the null hypothesis: There is a significant difference in risk across provinces.\")\n",
    "else:\n",
    "    print(\"Fail to reject the null hypothesis: No significant difference in risk across provinces.\")\n"
   ]
  },
  {
   "cell_type": "code",
   "execution_count": 76,
   "metadata": {},
   "outputs": [
    {
     "name": "stdout",
     "output_type": "stream",
     "text": [
      "ANOVA for Profit Margin across Zip Codes: p-value = nan\n",
      "Fail to reject the null hypothesis: No significant margin difference across zip codes.\n"
     ]
    }
   ],
   "source": [
    "# Perform ANOVA for Profit Margin by Zip Code\n",
    "anova_zipcode_profit_margin = stats.f_oneway(*[group['ProfitMargin'].values for name, group in df.groupby('PostalCode')])\n",
    "\n",
    "# Print p-value for ANOVA test\n",
    "print(f\"ANOVA for Profit Margin across Zip Codes: p-value = {anova_zipcode_profit_margin.pvalue}\")\n",
    "\n",
    "# Check if p-value is significant\n",
    "if anova_zipcode_profit_margin.pvalue < 0.05:\n",
    "    print(\"Reject the null hypothesis: There is a significant margin difference across zip codes.\")\n",
    "else:\n",
    "    print(\"Fail to reject the null hypothesis: No significant margin difference across zip codes.\")\n"
   ]
  },
  {
   "cell_type": "code",
   "execution_count": 77,
   "metadata": {},
   "outputs": [
    {
     "name": "stdout",
     "output_type": "stream",
     "text": [
      "T-test for Loss Ratio between Genders: p-value = nan\n",
      "Fail to reject the null hypothesis: No significant difference in risk between Men and Women.\n"
     ]
    }
   ],
   "source": [
    "# Group data by gender\n",
    "male_group = df[df['Gender'] == 'Male']\n",
    "female_group = df[df['Gender'] == 'Female']\n",
    "\n",
    "# Perform T-test for Loss Ratio between Genders\n",
    "t_test_gender_loss_ratio = stats.ttest_ind(male_group['LossRatio'], female_group['LossRatio'])\n",
    "\n",
    "# Print p-value for T-test\n",
    "print(f\"T-test for Loss Ratio between Genders: p-value = {t_test_gender_loss_ratio.pvalue}\")\n",
    "\n",
    "# Check if p-value is significant\n",
    "if t_test_gender_loss_ratio.pvalue < 0.05:\n",
    "    print(\"Reject the null hypothesis: There is a significant difference in risk between Men and Women.\")\n",
    "else:\n",
    "    print(\"Fail to reject the null hypothesis: No significant difference in risk between Men and Women.\")\n"
   ]
  },
  {
   "cell_type": "code",
   "execution_count": 78,
   "metadata": {},
   "outputs": [
    {
     "name": "stdout",
     "output_type": "stream",
     "text": [
      "T-test for Profit Margin between Genders: p-value = nan\n",
      "Fail to reject the null hypothesis: No significant difference in profit margin between Men and Women.\n"
     ]
    }
   ],
   "source": [
    "# Perform T-test for Profit Margin between Genders\n",
    "t_test_gender_profit_margin = stats.ttest_ind(male_group['ProfitMargin'], female_group['ProfitMargin'])\n",
    "\n",
    "# Print p-value for T-test\n",
    "print(f\"T-test for Profit Margin between Genders: p-value = {t_test_gender_profit_margin.pvalue}\")\n",
    "\n",
    "# Check if p-value is significant\n",
    "if t_test_gender_profit_margin.pvalue < 0.05:\n",
    "    print(\"Reject the null hypothesis: There is a significant difference in profit margin between Men and Women.\")\n",
    "else:\n",
    "    print(\"Fail to reject the null hypothesis: No significant difference in profit margin between Men and Women.\")\n"
   ]
  },
  {
   "cell_type": "code",
   "execution_count": 59,
   "metadata": {},
   "outputs": [
    {
     "data": {
      "text/html": [
       "<div>\n",
       "<style scoped>\n",
       "    .dataframe tbody tr th:only-of-type {\n",
       "        vertical-align: middle;\n",
       "    }\n",
       "\n",
       "    .dataframe tbody tr th {\n",
       "        vertical-align: top;\n",
       "    }\n",
       "\n",
       "    .dataframe thead th {\n",
       "        text-align: right;\n",
       "    }\n",
       "</style>\n",
       "<table border=\"1\" class=\"dataframe\">\n",
       "  <thead>\n",
       "    <tr style=\"text-align: right;\">\n",
       "      <th></th>\n",
       "      <th>LossRatio</th>\n",
       "      <th>ProfitMargin</th>\n",
       "      <th>ClaimFrequency</th>\n",
       "    </tr>\n",
       "  </thead>\n",
       "  <tbody>\n",
       "    <tr>\n",
       "      <th>0</th>\n",
       "      <td>0.0</td>\n",
       "      <td>1.0</td>\n",
       "      <td>0.0</td>\n",
       "    </tr>\n",
       "    <tr>\n",
       "      <th>1</th>\n",
       "      <td>0.0</td>\n",
       "      <td>1.0</td>\n",
       "      <td>0.0</td>\n",
       "    </tr>\n",
       "    <tr>\n",
       "      <th>2</th>\n",
       "      <td>NaN</td>\n",
       "      <td>NaN</td>\n",
       "      <td>0.0</td>\n",
       "    </tr>\n",
       "    <tr>\n",
       "      <th>3</th>\n",
       "      <td>0.0</td>\n",
       "      <td>1.0</td>\n",
       "      <td>0.0</td>\n",
       "    </tr>\n",
       "    <tr>\n",
       "      <th>4</th>\n",
       "      <td>NaN</td>\n",
       "      <td>NaN</td>\n",
       "      <td>0.0</td>\n",
       "    </tr>\n",
       "  </tbody>\n",
       "</table>\n",
       "</div>"
      ],
      "text/plain": [
       "   LossRatio  ProfitMargin  ClaimFrequency\n",
       "0        0.0           1.0             0.0\n",
       "1        0.0           1.0             0.0\n",
       "2        NaN           NaN             0.0\n",
       "3        0.0           1.0             0.0\n",
       "4        NaN           NaN             0.0"
      ]
     },
     "execution_count": 59,
     "metadata": {},
     "output_type": "execute_result"
    }
   ],
   "source": [
    "# Display the first few rows to check the calculated KPIs\n",
    "df[['LossRatio', 'ProfitMargin', 'ClaimFrequency']].head()\n"
   ]
  },
  {
   "cell_type": "markdown",
   "metadata": {},
   "source": [
    "## Data Segmentation"
   ]
  },
  {
   "cell_type": "code",
   "execution_count": 81,
   "metadata": {},
   "outputs": [],
   "source": [
    "# Code segmentation for the AlarmImmobiliser\n",
    "# Group A: Plans without an alarm immobiliser\n",
    "group_a_alarm = df[df['AlarmImmobiliser'] == 'No']\n",
    "\n",
    "# Group B: Plans with an alarm immobiliser\n",
    "group_b_alarm = df[df['AlarmImmobiliser'] == 'Yes']\n"
   ]
  },
  {
   "cell_type": "code",
   "execution_count": 82,
   "metadata": {},
   "outputs": [],
   "source": [
    "# Working on the Tracking device\n",
    "# Group A: Plans without a tracking device\n",
    "group_a_tracking = df[df['TrackingDevice'] == 'No']\n",
    "\n",
    "# Group B: Plans with a tracking device\n",
    "group_b_tracking = df[df['TrackingDevice'] == 'Yes']\n"
   ]
  },
  {
   "cell_type": "code",
   "execution_count": 83,
   "metadata": {},
   "outputs": [],
   "source": [
    "# Working with NewVehicle\n",
    "# Group A: Plans for non-new vehicles\n",
    "group_a_new_vehicle = df[df['NewVehicle'] == 'No']\n",
    "\n",
    "# Group B: Plans for new vehicles\n",
    "group_b_new_vehicle = df[df['NewVehicle'] == 'Yes']\n"
   ]
  },
  {
   "cell_type": "code",
   "execution_count": 84,
   "metadata": {},
   "outputs": [],
   "source": [
    "# Working with WrittenOff\n",
    "# Group A: Plans where vehicles are not written off\n",
    "group_a_written_off = df[df['WrittenOff'] == 'No']\n",
    "\n",
    "# Group B: Plans where vehicles are written off\n",
    "group_b_written_off = df[df['WrittenOff'] == 'Yes']\n"
   ]
  },
  {
   "cell_type": "code",
   "execution_count": 85,
   "metadata": {},
   "outputs": [],
   "source": [
    "# Working with rebuilt\n",
    "# Group A: Plans where vehicles are not rebuilt\n",
    "group_a_rebuilt = df[df['Rebuilt'] == 'No']\n",
    "\n",
    "# Group B: Plans where vehicles are rebuilt\n",
    "group_b_rebuilt = df[df['Rebuilt'] == 'Yes']\n"
   ]
  },
  {
   "cell_type": "code",
   "execution_count": 86,
   "metadata": {},
   "outputs": [],
   "source": [
    "# Working with converted\n",
    "# Group A: Plans where vehicles are not converted\n",
    "group_a_converted = df[df['Converted'] == 'No']\n",
    "\n",
    "# Group B: Plans where vehicles are converted\n",
    "group_b_converted = df[df['Converted'] == 'Yes']\n"
   ]
  },
  {
   "cell_type": "code",
   "execution_count": 87,
   "metadata": {},
   "outputs": [],
   "source": [
    "# Working with cross-border\n",
    "# Group A: Plans not covering cross-border usage\n",
    "group_a_cross_border = df[df['CrossBorder'] == 'No']\n",
    "\n",
    "# Group B: Plans covering cross-border usage\n",
    "group_b_cross_border = df[df['CrossBorder'] == 'Yes']\n"
   ]
  },
  {
   "cell_type": "code",
   "execution_count": 88,
   "metadata": {},
   "outputs": [],
   "source": [
    "# Working with Cover Type\n",
    "# Group A: Control Group ( Comprehensive Cover)\n",
    "group_a = df[df['CoverType'] == 'Comprehensive']\n",
    "\n",
    "# Group B: Test Group ( Third Party Cover)\n",
    "group_b = df[df['CoverType'] == 'Third Party']\n"
   ]
  },
  {
   "cell_type": "code",
   "execution_count": 89,
   "metadata": {},
   "outputs": [],
   "source": [
    "# Working with language\n",
    "# Group A: Plans where the primary language is English\n",
    "group_a_language = df[df['Language'] == 'English']\n",
    "\n",
    "# Group B: Plans where the primary language is French\n",
    "group_b_language = df[df['Language'] == 'French']\n"
   ]
  },
  {
   "cell_type": "code",
   "execution_count": 90,
   "metadata": {},
   "outputs": [],
   "source": [
    "# Working with VehicleType\n",
    "# Group A: Plans for Sedan type vehicles\n",
    "group_a_vehicle_type = df[df['VehicleType'] == 'Sedan']\n",
    "\n",
    "# Group B: Plans for SUV type vehicles\n",
    "group_b_vehicle_type = df[df['VehicleType'] == 'SUV']\n"
   ]
  },
  {
   "cell_type": "code",
   "execution_count": 91,
   "metadata": {},
   "outputs": [],
   "source": [
    "# Working with CoverGroup\n",
    "# Group A: Plans in Standard cover group\n",
    "group_a_cover_group = df[df['CoverGroup'] == 'Standard']\n",
    "\n",
    "# Group B: Plans in Premium cover group\n",
    "group_b_cover_group = df[df['CoverGroup'] == 'Premium']\n"
   ]
  },
  {
   "cell_type": "code",
   "execution_count": 92,
   "metadata": {},
   "outputs": [],
   "source": [
    "# Working with Product\n",
    "# Group A: Plans with Basic product\n",
    "group_a_product = df[df['Product'] == 'Basic']\n",
    "\n",
    "# Group B: Plans with Advanced product\n",
    "group_b_product = df[df['Product'] == 'Advanced']\n"
   ]
  },
  {
   "cell_type": "markdown",
   "metadata": {},
   "source": [
    "## Statistical Testing"
   ]
  },
  {
   "cell_type": "code",
   "execution_count": 93,
   "metadata": {},
   "outputs": [],
   "source": [
    "import pandas as pd\n",
    "import scipy.stats as stats\n",
    "import numpy as np\n",
    "from statsmodels.stats.proportion import proportions_ztest\n",
    "\n",
    "# Example of loading your data\n",
    "# data = pd.read_csv('insurance_data.csv')\n",
    "\n",
    "# Function to perform a t-test\n",
    "def perform_t_test(group_a, group_b, metric):\n",
    "    t_stat, p_value = stats.ttest_ind(group_a[metric], group_b[metric], equal_var=False)\n",
    "    return t_stat, p_value\n",
    "\n",
    "# Function to perform a chi-squared test for categorical data\n",
    "def perform_chi_squared(group_a, group_b, column):\n",
    "    contingency_table = pd.crosstab(group_a[column], group_b[column])\n",
    "    chi2, p_value, dof, expected = stats.chi2_contingency(contingency_table)\n",
    "    return chi2, p_value\n",
    "\n",
    "# Function to print the results\n",
    "def analyze_results(p_value):\n",
    "    if p_value < 0.05:\n",
    "        print(\"Reject the null hypothesis. There is a significant difference.\")\n",
    "    else:\n",
    "        print(\"Fail to reject the null hypothesis. There is no significant difference.\")\n"
   ]
  },
  {
   "cell_type": "code",
   "execution_count": 94,
   "metadata": {},
   "outputs": [
    {
     "name": "stdout",
     "output_type": "stream",
     "text": [
      "t-statistic: nan, p-value: nan\n",
      "Fail to reject the null hypothesis. There is no significant difference.\n"
     ]
    }
   ],
   "source": [
    "# Perform t-test for Loss Ratio between Group A and Group B for AlarmImmobiliser\n",
    "t_stat, p_value = perform_t_test(group_a_alarm, group_b_alarm, 'LossRatio')\n",
    "\n",
    "# Print the results\n",
    "print(f\"t-statistic: {t_stat}, p-value: {p_value}\")\n",
    "analyze_results(p_value)\n"
   ]
  },
  {
   "cell_type": "code",
   "execution_count": 95,
   "metadata": {},
   "outputs": [
    {
     "name": "stdout",
     "output_type": "stream",
     "text": [
      "t-statistic: nan, p-value: nan\n",
      "Fail to reject the null hypothesis. There is no significant difference.\n"
     ]
    }
   ],
   "source": [
    "# Perform t-test for Profit Margin between Group A and Group B for TrackingDevice\n",
    "t_stat, p_value = perform_t_test(group_a_tracking, group_b_tracking, 'ProfitMargin')\n",
    "\n",
    "# Print the results\n",
    "print(f\"t-statistic: {t_stat}, p-value: {p_value}\")\n",
    "analyze_results(p_value)\n"
   ]
  },
  {
   "cell_type": "code",
   "execution_count": 96,
   "metadata": {},
   "outputs": [
    {
     "ename": "ValueError",
     "evalue": "No data; `observed` has size 0.",
     "output_type": "error",
     "traceback": [
      "\u001b[1;31m---------------------------------------------------------------------------\u001b[0m",
      "\u001b[1;31mValueError\u001b[0m                                Traceback (most recent call last)",
      "Cell \u001b[1;32mIn[96], line 2\u001b[0m\n\u001b[0;32m      1\u001b[0m \u001b[38;5;66;03m# Perform chi-squared test between Group A and Group B for Converted\u001b[39;00m\n\u001b[1;32m----> 2\u001b[0m chi2_stat, p_value \u001b[38;5;241m=\u001b[39m \u001b[43mperform_chi_squared\u001b[49m\u001b[43m(\u001b[49m\u001b[43mgroup_a_converted\u001b[49m\u001b[43m,\u001b[49m\u001b[43m \u001b[49m\u001b[43mgroup_b_converted\u001b[49m\u001b[43m,\u001b[49m\u001b[43m \u001b[49m\u001b[38;5;124;43m'\u001b[39;49m\u001b[38;5;124;43mConverted\u001b[39;49m\u001b[38;5;124;43m'\u001b[39;49m\u001b[43m)\u001b[49m\n\u001b[0;32m      4\u001b[0m \u001b[38;5;66;03m# Print the results\u001b[39;00m\n\u001b[0;32m      5\u001b[0m \u001b[38;5;28mprint\u001b[39m(\u001b[38;5;124mf\u001b[39m\u001b[38;5;124m\"\u001b[39m\u001b[38;5;124mChi-squared statistic: \u001b[39m\u001b[38;5;132;01m{\u001b[39;00mchi2_stat\u001b[38;5;132;01m}\u001b[39;00m\u001b[38;5;124m, p-value: \u001b[39m\u001b[38;5;132;01m{\u001b[39;00mp_value\u001b[38;5;132;01m}\u001b[39;00m\u001b[38;5;124m\"\u001b[39m)\n",
      "Cell \u001b[1;32mIn[93], line 17\u001b[0m, in \u001b[0;36mperform_chi_squared\u001b[1;34m(group_a, group_b, column)\u001b[0m\n\u001b[0;32m     15\u001b[0m \u001b[38;5;28;01mdef\u001b[39;00m \u001b[38;5;21mperform_chi_squared\u001b[39m(group_a, group_b, column):\n\u001b[0;32m     16\u001b[0m     contingency_table \u001b[38;5;241m=\u001b[39m pd\u001b[38;5;241m.\u001b[39mcrosstab(group_a[column], group_b[column])\n\u001b[1;32m---> 17\u001b[0m     chi2, p_value, dof, expected \u001b[38;5;241m=\u001b[39m \u001b[43mstats\u001b[49m\u001b[38;5;241;43m.\u001b[39;49m\u001b[43mchi2_contingency\u001b[49m\u001b[43m(\u001b[49m\u001b[43mcontingency_table\u001b[49m\u001b[43m)\u001b[49m\n\u001b[0;32m     18\u001b[0m     \u001b[38;5;28;01mreturn\u001b[39;00m chi2, p_value\n",
      "File \u001b[1;32mc:\\Users\\NurselamHussen-ZOAEt\\Downloads\\New folder\\10 Academy-project\\Week-3\\.venv\\Lib\\site-packages\\scipy\\stats\\contingency.py:333\u001b[0m, in \u001b[0;36mchi2_contingency\u001b[1;34m(observed, correction, lambda_)\u001b[0m\n\u001b[0;32m    331\u001b[0m     \u001b[38;5;28;01mraise\u001b[39;00m \u001b[38;5;167;01mValueError\u001b[39;00m(\u001b[38;5;124m\"\u001b[39m\u001b[38;5;124mAll values in `observed` must be nonnegative.\u001b[39m\u001b[38;5;124m\"\u001b[39m)\n\u001b[0;32m    332\u001b[0m \u001b[38;5;28;01mif\u001b[39;00m observed\u001b[38;5;241m.\u001b[39msize \u001b[38;5;241m==\u001b[39m \u001b[38;5;241m0\u001b[39m:\n\u001b[1;32m--> 333\u001b[0m     \u001b[38;5;28;01mraise\u001b[39;00m \u001b[38;5;167;01mValueError\u001b[39;00m(\u001b[38;5;124m\"\u001b[39m\u001b[38;5;124mNo data; `observed` has size 0.\u001b[39m\u001b[38;5;124m\"\u001b[39m)\n\u001b[0;32m    335\u001b[0m expected \u001b[38;5;241m=\u001b[39m expected_freq(observed)\n\u001b[0;32m    336\u001b[0m \u001b[38;5;28;01mif\u001b[39;00m np\u001b[38;5;241m.\u001b[39many(expected \u001b[38;5;241m==\u001b[39m \u001b[38;5;241m0\u001b[39m):\n\u001b[0;32m    337\u001b[0m     \u001b[38;5;66;03m# Include one of the positions where expected is zero in\u001b[39;00m\n\u001b[0;32m    338\u001b[0m     \u001b[38;5;66;03m# the exception message.\u001b[39;00m\n",
      "\u001b[1;31mValueError\u001b[0m: No data; `observed` has size 0."
     ]
    }
   ],
   "source": [
    "# Perform chi-squared test between Group A and Group B for Converted\n",
    "chi2_stat, p_value = perform_chi_squared(group_a_converted, group_b_converted, 'Converted')\n",
    "\n",
    "# Print the results\n",
    "print(f\"Chi-squared statistic: {chi2_stat}, p-value: {p_value}\")\n",
    "analyze_results(p_value)\n"
   ]
  },
  {
   "cell_type": "code",
   "execution_count": null,
   "metadata": {},
   "outputs": [],
   "source": [
    "# Perform chi-squared test between Group A and Group B for CrossBorder\n",
    "chi2_stat, p_value = perform_chi_squared(group_a_cross_border, group_b_cross_border, 'CrossBorder')\n",
    "\n",
    "# Print the results\n",
    "print(f\"Chi-squared statistic: {chi2_stat}, p-value: {p_value}\")\n",
    "analyze_results(p_value)\n"
   ]
  },
  {
   "cell_type": "code",
   "execution_count": null,
   "metadata": {},
   "outputs": [],
   "source": [
    "# Number of claims by gender\n",
    "count_men = data[data['Gender'] == 'Male']['ClaimFrequency'].sum()\n",
    "count_women = data[data['Gender'] == 'Female']['ClaimFrequency'].sum()\n",
    "\n",
    "# Total number of policies by gender\n",
    "nobs_men = data[data['Gender'] == 'Male'].shape[0]\n",
    "nobs_women = data[data['Gender'] == 'Female'].shape[0]\n",
    "\n",
    "# Perform a z-test for proportions\n",
    "stat, p_value = proportions_ztest([count_men, count_women], [nobs_men, nobs_women])\n",
    "\n",
    "# Print the results\n",
    "print(f\"z-statistic: {stat}, p-value: {p_value}\")\n",
    "analyze_results(p_value)\n"
   ]
  }
 ],
 "metadata": {
  "kernelspec": {
   "display_name": ".venv",
   "language": "python",
   "name": "python3"
  },
  "language_info": {
   "codemirror_mode": {
    "name": "ipython",
    "version": 3
   },
   "file_extension": ".py",
   "mimetype": "text/x-python",
   "name": "python",
   "nbconvert_exporter": "python",
   "pygments_lexer": "ipython3",
   "version": "3.11.9"
  }
 },
 "nbformat": 4,
 "nbformat_minor": 2
}
